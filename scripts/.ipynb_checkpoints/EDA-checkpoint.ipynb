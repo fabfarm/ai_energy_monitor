{
 "cells": [
  {
   "cell_type": "code",
   "execution_count": 31,
   "id": "6c2230f3",
   "metadata": {},
   "outputs": [
    {
     "data": {
      "text/plain": [
       "[(1674815821.8, 1674816260.0),\n",
       " (1674815821.85, 4.97),\n",
       " (1674815821.9, -26.75),\n",
       " (1674815821.95, 10.82),\n",
       " (1674815822.0, 14.51)]"
      ]
     },
     "execution_count": 31,
     "metadata": {},
     "output_type": "execute_result"
    }
   ],
   "source": [
    "with open(\"2020-phone/readings.csv\") as f:\n",
    "    rows = f.readlines()\n",
    "    \n",
    "period = int(rows[0])\n",
    "freq = 1000 / period\n",
    "end = int(rows[1])\n",
    "readings = [float(e) for e in rows[1:]]\n",
    "timestamps = [end - ((len(readings) - e_id) * period / 1000) for e_id in range(len(readings)) ]\n",
    "\n",
    "assert len(readings) == len(timestamps)\n",
    "readings = list(zip(timestamps, readings))\n",
    "\n",
    "readings[:5]"
   ]
  },
  {
   "cell_type": "code",
   "execution_count": 33,
   "id": "78f50d14",
   "metadata": {},
   "outputs": [
    {
     "data": {
      "text/plain": [
       "[(1674815711.0, 'o'),\n",
       " (1674815718.0, 'i'),\n",
       " (1674815725.0, 'o'),\n",
       " (1674815735.0, 'i'),\n",
       " (1674815741.0, 'o')]"
      ]
     },
     "execution_count": 33,
     "metadata": {},
     "output_type": "execute_result"
    }
   ],
   "source": [
    "import csv\n",
    "\n",
    "with open(\"2020-phone/appliances.csv\") as f:\n",
    "    reader = csv.reader(f)\n",
    "    events = [(float(e), g) for e, g in reader]\n",
    "    \n",
    "events[:5]"
   ]
  },
  {
   "cell_type": "code",
   "execution_count": 36,
   "id": "9676d433",
   "metadata": {},
   "outputs": [],
   "source": [
    "window_size = 10\n",
    "windows = []\n",
    "\n",
    "for event in events:\n",
    "    window = [e for e in readings if abs(e[0] - event[0]) < window_size]\n",
    "    windows += [window]"
   ]
  },
  {
   "cell_type": "code",
   "execution_count": 39,
   "id": "33a6a75f",
   "metadata": {},
   "outputs": [],
   "source": [
    "data = zip([e[1] for e in events], windows)\n",
    "data = [e for e in data if e[1] != []]"
   ]
  },
  {
   "cell_type": "code",
   "execution_count": 41,
   "id": "89a09176",
   "metadata": {},
   "outputs": [],
   "source": [
    "in_sample = [e for e in data if e[0] == \"i\"][:5]\n",
    "out_sample = [e for e in data if e[0] == \"o\"][:5]"
   ]
  },
  {
   "cell_type": "code",
   "execution_count": 42,
   "id": "bc959a03",
   "metadata": {},
   "outputs": [
    {
     "ename": "ModuleNotFoundError",
     "evalue": "No module named 'matplotlib'",
     "output_type": "error",
     "traceback": [
      "\u001b[0;31m---------------------------------------------------------------------------\u001b[0m",
      "\u001b[0;31mModuleNotFoundError\u001b[0m                       Traceback (most recent call last)",
      "Cell \u001b[0;32mIn[42], line 1\u001b[0m\n\u001b[0;32m----> 1\u001b[0m \u001b[38;5;28;01mimport\u001b[39;00m \u001b[38;5;21;01mmatplotlib\u001b[39;00m\u001b[38;5;21;01m.\u001b[39;00m\u001b[38;5;21;01mpyplot\u001b[39;00m \u001b[38;5;28;01mas\u001b[39;00m \u001b[38;5;21;01mplt\u001b[39;00m\n",
      "\u001b[0;31mModuleNotFoundError\u001b[0m: No module named 'matplotlib'"
     ]
    }
   ],
   "source": [
    "import matplotlib.pyplot as plt"
   ]
  }
 ],
 "metadata": {
  "kernelspec": {
   "display_name": "Python 3 (ipykernel)",
   "language": "python",
   "name": "python3"
  },
  "language_info": {
   "codemirror_mode": {
    "name": "ipython",
    "version": 3
   },
   "file_extension": ".py",
   "mimetype": "text/x-python",
   "name": "python",
   "nbconvert_exporter": "python",
   "pygments_lexer": "ipython3",
   "version": "3.11.0"
  }
 },
 "nbformat": 4,
 "nbformat_minor": 5
}
